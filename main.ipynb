{
 "cells": [
  {
   "cell_type": "markdown",
   "metadata": {},
   "source": [
    "# Analysing Start-up Funding Trend"
   ]
  },
  {
   "cell_type": "markdown",
   "metadata": {},
   "source": [
    "The purpose of this analysis is to find trends among start-ups in recent years.\n",
    "\n",
    "The dataset consists of company information with the following columns:\n",
    "1. Organization Name  \n",
    "2. Organization Name URL  \n",
    "3. Headquarters Location  \n",
    "4. Industries  \n",
    "5. Last Funding Type  \n",
    "6. Last Funding Date  \n",
    "7. Last Funding Amount  \n",
    "8. Last Funding Amount Currency  \n",
    "9. Last Funding Amount Currency (in USD)  \n",
    "10. Number of Employees  \n",
    "11. Price Currency  \n",
    "12. Company Type  \n",
    "13. Founded Date  \n",
    "14. Twitter  \n",
    "15. Facebook  \n",
    "16. LinkedIn  \n",
    "17. Funding Status  \n",
    "18. Acquisition Type  \n",
    "19. Announced Date  \n",
    "20. Estimated Revenue Range  "
   ]
  },
  {
   "cell_type": "markdown",
   "metadata": {},
   "source": [
    "## 1. Import File and Relevant Libraries"
   ]
  },
  {
   "cell_type": "code",
   "execution_count": 36,
   "metadata": {},
   "outputs": [],
   "source": [
    "import pandas as pd\n",
    "import numpy as np\n",
    "import seaborn as sns\n",
    "import matplotlib.pyplot as plt"
   ]
  },
  {
   "cell_type": "code",
   "execution_count": 18,
   "metadata": {},
   "outputs": [
    {
     "name": "stdout",
     "output_type": "stream",
     "text": [
      "  Organization Name                              Organization Name URL  \\\n",
      "0             Nexar    https://www.crunchbase.com/organization/nexar-2   \n",
      "1           Medable  https://www.crunchbase.com/organization/medabl...   \n",
      "2          Instabox   https://www.crunchbase.com/organization/instabox   \n",
      "3           Triller    https://www.crunchbase.com/organization/triller   \n",
      "4           OPSkins    https://www.crunchbase.com/organization/opskins   \n",
      "\n",
      "                     Headquarters Location  \\\n",
      "0               Tel Aviv, Tel Aviv, Israel   \n",
      "1     Palo Alto, California, United States   \n",
      "2       HÃ¤gersten, Stockholms Lan, Sweden   \n",
      "3        New York, New York, United States   \n",
      "4  Santa Monica, California, United States   \n",
      "\n",
      "                                          Industries  \\\n",
      "0  Apps, Autonomous Vehicles, Internet, Sensor, T...   \n",
      "1  Developer APIs, Health Care, Medical, Medical ...   \n",
      "2       Logistics, Shipping, Supply Chain Management   \n",
      "3               Digital Media, Music, Social Network   \n",
      "4                       E-Commerce, Gaming, Internet   \n",
      "\n",
      "          Last Funding Type Last Funding Date  Last Funding Amount  \\\n",
      "0                  Series C         4/30/2020           52000000.0   \n",
      "1  Venture - Series Unknown          5/4/2020           25000000.0   \n",
      "2            Debt Financing          4/8/2020           23000000.0   \n",
      "3                  Series B        10/23/2019           28000000.0   \n",
      "4     Initial Coin Offering        11/13/2017           41000000.0   \n",
      "\n",
      "  Last Funding Amount Currency  Last Funding Amount Currency (in USD)  \\\n",
      "0                          USD                             52000000.0   \n",
      "1                          USD                             25000000.0   \n",
      "2                          EUR                             24978252.0   \n",
      "3                          USD                             28000000.0   \n",
      "4                          USD                             41000000.0   \n",
      "\n",
      "  Number of Employees  ...  Price Currency Company Type  Founded Date  \\\n",
      "0             101-250  ...             NaN   For Profit      1/1/2015   \n",
      "1             101-250  ...             NaN   For Profit      1/1/2015   \n",
      "2             101-250  ...             NaN   For Profit      1/1/2015   \n",
      "3               11-50  ...             NaN   For Profit      1/1/2015   \n",
      "4               11-50  ...             NaN   For Profit      1/1/2015   \n",
      "\n",
      "                         Twitter                              Facebook  \\\n",
      "0    http://twitter.com/getnexar         https://facebook.com/getnexar   \n",
      "1  http://twitter.com/MedableInc  https://www.facebook.com/MedableInc/   \n",
      "2                            NaN  https://www.facebook.com/instabox.se   \n",
      "3    https://twitter.com/triller  https://www.facebook.com/trillervids   \n",
      "4  https://twitter.com/opskinsgo      https://www.facebook.com/opskins   \n",
      "\n",
      "                                            LinkedIn       Funding Status  \\\n",
      "0          https://www.linkedin.com/company/10460529   Late Stage Venture   \n",
      "1     https://www.linkedin.com/company/medable-inc-/                  NaN   \n",
      "2      https://www.linkedin.com/company/instabox-ab/                  NaN   \n",
      "3           https://www.linkedin.com/company/triller  Early Stage Venture   \n",
      "4  https://www.linkedin.com/company/opskins-com--...                  NaN   \n",
      "\n",
      "   Acquisition Type  Announced Date  Estimated Revenue Range  \n",
      "0               NaN             NaN            Less than $1M  \n",
      "1               NaN             NaN            Less than $1M  \n",
      "2               NaN             NaN            Less than $1M  \n",
      "3               NaN             NaN            Less than $1M  \n",
      "4               NaN             NaN            Less than $1M  \n",
      "\n",
      "[5 rows x 32 columns]\n"
     ]
    }
   ],
   "source": [
    "# import data\n",
    "data = pd.read_csv('HP Business Analytics Dataset.csv')\n",
    "\n",
    "# check the first few rows of the data\n",
    "print(data.head())"
   ]
  },
  {
   "cell_type": "code",
   "execution_count": 19,
   "metadata": {},
   "outputs": [
    {
     "name": "stdout",
     "output_type": "stream",
     "text": [
      "(21528, 32)\n"
     ]
    }
   ],
   "source": [
    "# count the number of rows and columns in the data\n",
    "print(data.shape)"
   ]
  },
  {
   "cell_type": "code",
   "execution_count": 20,
   "metadata": {},
   "outputs": [
    {
     "name": "stdout",
     "output_type": "stream",
     "text": [
      "Organization Name                          object\n",
      "Organization Name URL                      object\n",
      "Headquarters Location                      object\n",
      "Industries                                 object\n",
      "Last Funding Type                          object\n",
      "Last Funding Date                          object\n",
      "Last Funding Amount                       float64\n",
      "Last Funding Amount Currency               object\n",
      "Last Funding Amount Currency (in USD)     float64\n",
      "Number of Employees                        object\n",
      "Total Funding Amount                      float64\n",
      "Total Funding Amount Currency              object\n",
      "Total Funding Amount Currency (in USD)    float64\n",
      "Number of Funding Rounds                  float64\n",
      "Acquisition Status                         object\n",
      "Acquired by                                object\n",
      "Acquired by URL                            object\n",
      "Number of Acquisitions                    float64\n",
      "Acquisition Price Currency (in USD)       float64\n",
      "Number of Founders                        float64\n",
      "Unnamed: 20                               float64\n",
      "Acquisition Price                         float64\n",
      "Price Currency                             object\n",
      "Company Type                               object\n",
      "Founded Date                               object\n",
      "Twitter                                    object\n",
      "Facebook                                   object\n",
      "LinkedIn                                   object\n",
      "Funding Status                             object\n",
      "Acquisition Type                           object\n",
      "Announced Date                             object\n",
      "Estimated Revenue Range                    object\n",
      "dtype: object\n"
     ]
    }
   ],
   "source": [
    "# check the data types of the columns\n",
    "print(data.dtypes)"
   ]
  },
  {
   "cell_type": "markdown",
   "metadata": {},
   "source": [
    "## 2. Dataset Preparation"
   ]
  },
  {
   "cell_type": "code",
   "execution_count": 21,
   "metadata": {},
   "outputs": [
    {
     "name": "stdout",
     "output_type": "stream",
     "text": [
      "Organization Name                             2\n",
      "Organization Name URL                         0\n",
      "Headquarters Location                      1980\n",
      "Industries                                  168\n",
      "Last Funding Type                          9055\n",
      "Last Funding Date                          9055\n",
      "Last Funding Amount                       11604\n",
      "Last Funding Amount Currency              11604\n",
      "Last Funding Amount Currency (in USD)     11604\n",
      "Number of Employees                        1548\n",
      "Total Funding Amount                      10490\n",
      "Total Funding Amount Currency             10490\n",
      "Total Funding Amount Currency (in USD)    10490\n",
      "Number of Funding Rounds                   9055\n",
      "Acquisition Status                        20462\n",
      "Acquired by                               21164\n",
      "Acquired by URL                           21164\n",
      "Number of Acquisitions                    20797\n",
      "Acquisition Price Currency (in USD)       21475\n",
      "Number of Founders                         5409\n",
      "Unnamed: 20                               21528\n",
      "Acquisition Price                         21475\n",
      "Price Currency                            21475\n",
      "Company Type                               5063\n",
      "Founded Date                                  0\n",
      "Twitter                                    4878\n",
      "Facebook                                   5454\n",
      "LinkedIn                                   5180\n",
      "Funding Status                            11589\n",
      "Acquisition Type                          21174\n",
      "Announced Date                            21164\n",
      "Estimated Revenue Range                       0\n",
      "dtype: int64\n"
     ]
    }
   ],
   "source": [
    "# check for missing values\n",
    "print(data.isnull().sum())"
   ]
  },
  {
   "cell_type": "code",
   "execution_count": 22,
   "metadata": {},
   "outputs": [],
   "source": [
    "# remove irrelevant columns\n",
    "data = data.drop(['Unnamed: 20'], axis=1)\n"
   ]
  },
  {
   "cell_type": "code",
   "execution_count": 23,
   "metadata": {},
   "outputs": [
    {
     "name": "stdout",
     "output_type": "stream",
     "text": [
      "Index(['Organization Name', 'Organization Name URL', 'Headquarters Location',\n",
      "       'Industries', 'Last Funding Type', 'Last Funding Date',\n",
      "       'Last Funding Amount', 'Last Funding Amount Currency',\n",
      "       'Last Funding Amount Currency (in USD)', 'Number of Employees',\n",
      "       'Total Funding Amount', 'Total Funding Amount Currency',\n",
      "       'Total Funding Amount Currency (in USD)', 'Number of Funding Rounds',\n",
      "       'Acquisition Status', 'Acquired by', 'Acquired by URL',\n",
      "       'Number of Acquisitions', 'Acquisition Price Currency (in USD)',\n",
      "       'Number of Founders', 'Acquisition Price', 'Price Currency',\n",
      "       'Company Type', 'Founded Date', 'Twitter', 'Facebook', 'LinkedIn',\n",
      "       'Funding Status', 'Acquisition Type', 'Announced Date',\n",
      "       'Estimated Revenue Range'],\n",
      "      dtype='object')\n"
     ]
    }
   ],
   "source": [
    "# check the new columns\n",
    "print(data.columns)"
   ]
  },
  {
   "cell_type": "code",
   "execution_count": 24,
   "metadata": {},
   "outputs": [
    {
     "name": "stdout",
     "output_type": "stream",
     "text": [
      "Index(['Organization Name', 'Organization Name URL', 'Headquarters Location',\n",
      "       'Industries', 'Last Funding Type', 'Last Funding Date',\n",
      "       'Number of Employees', 'Total Funding Amount',\n",
      "       'Total Funding Amount Currency',\n",
      "       'Total Funding Amount Currency (in USD)', 'Number of Funding Rounds',\n",
      "       'Number of Founders', 'Company Type', 'Founded Date', 'Twitter',\n",
      "       'Facebook', 'LinkedIn', 'Estimated Revenue Range'],\n",
      "      dtype='object')\n"
     ]
    }
   ],
   "source": [
    "# Drop columns with excessive missing values (e.g., more than 50% missing)\n",
    "threshold = len(data) * 0.5\n",
    "\n",
    "cleaned_data = data.dropna(thresh=threshold, axis=1)\n",
    "\n",
    "print(cleaned_data.columns)"
   ]
  },
  {
   "cell_type": "code",
   "execution_count": 12,
   "metadata": {},
   "outputs": [
    {
     "name": "stdout",
     "output_type": "stream",
     "text": [
      "(21528, 18)\n"
     ]
    }
   ],
   "source": [
    "# check the new shape of the data\n",
    "print(cleaned_data.shape)\n",
    "\n"
   ]
  },
  {
   "cell_type": "code",
   "execution_count": 25,
   "metadata": {},
   "outputs": [],
   "source": [
    "# drop missing organizations name and industry\n",
    "\n",
    "cleaned_data = cleaned_data.dropna(subset=['Organization Name', 'Industries'])"
   ]
  },
  {
   "cell_type": "code",
   "execution_count": 26,
   "metadata": {},
   "outputs": [],
   "source": [
    "# remove columns that are not needed for analysis\n",
    "cleaned_data = cleaned_data.drop(['Twitter', 'Facebook', 'LinkedIn', 'Total Funding Amount Currency'], axis=1)"
   ]
  },
  {
   "cell_type": "code",
   "execution_count": 27,
   "metadata": {},
   "outputs": [
    {
     "name": "stdout",
     "output_type": "stream",
     "text": [
      "Organization Name                             0\n",
      "Organization Name URL                         0\n",
      "Headquarters Location                      1912\n",
      "Industries                                    0\n",
      "Last Funding Type                          8917\n",
      "Last Funding Date                          8917\n",
      "Number of Employees                        1514\n",
      "Total Funding Amount                      10341\n",
      "Total Funding Amount Currency (in USD)    10341\n",
      "Number of Funding Rounds                   8917\n",
      "Number of Founders                         5298\n",
      "Company Type                               4965\n",
      "Founded Date                                  0\n",
      "Estimated Revenue Range                       0\n",
      "dtype: int64\n"
     ]
    }
   ],
   "source": [
    "# check missing values again\n",
    "print(cleaned_data.isnull().sum())"
   ]
  },
  {
   "cell_type": "code",
   "execution_count": 28,
   "metadata": {},
   "outputs": [],
   "source": [
    "# Create a new dataframe with only complete rows (no missing values)\n",
    "complete_data = cleaned_data.dropna()"
   ]
  },
  {
   "cell_type": "code",
   "execution_count": 31,
   "metadata": {},
   "outputs": [
    {
     "data": {
      "text/plain": [
       "(8948, 14)"
      ]
     },
     "execution_count": 31,
     "metadata": {},
     "output_type": "execute_result"
    }
   ],
   "source": [
    "complete_data.shape"
   ]
  },
  {
   "cell_type": "markdown",
   "metadata": {},
   "source": [
    "## 3. Complete Data Analysis"
   ]
  },
  {
   "cell_type": "code",
   "execution_count": 39,
   "metadata": {},
   "outputs": [
    {
     "name": "stdout",
     "output_type": "stream",
     "text": [
      "                                        Total Funding Amount  \\\n",
      "Total Funding Amount                                1.000000   \n",
      "Total Funding Amount Currency (in USD)              0.445331   \n",
      "Number of Funding Rounds                            0.073199   \n",
      "Number of Founders                                 -0.007822   \n",
      "\n",
      "                                        Total Funding Amount Currency (in USD)  \\\n",
      "Total Funding Amount                                                  0.445331   \n",
      "Total Funding Amount Currency (in USD)                                1.000000   \n",
      "Number of Funding Rounds                                              0.161417   \n",
      "Number of Founders                                                    0.014171   \n",
      "\n",
      "                                        Number of Funding Rounds  \\\n",
      "Total Funding Amount                                    0.073199   \n",
      "Total Funding Amount Currency (in USD)                  0.161417   \n",
      "Number of Funding Rounds                                1.000000   \n",
      "Number of Founders                                      0.125151   \n",
      "\n",
      "                                        Number of Founders  \n",
      "Total Funding Amount                             -0.007822  \n",
      "Total Funding Amount Currency (in USD)            0.014171  \n",
      "Number of Funding Rounds                          0.125151  \n",
      "Number of Founders                                1.000000  \n"
     ]
    }
   ],
   "source": [
    "# Check the correlation between the numerical variables\n",
    "numerical_data = complete_data.select_dtypes(include=[np.number])\n",
    "correlation_matrix = numerical_data.corr()\n",
    "print(correlation_matrix)"
   ]
  },
  {
   "cell_type": "code",
   "execution_count": 40,
   "metadata": {},
   "outputs": [
    {
     "data": {
      "image/png": "[encoded data removed]",
      "text/plain": [
       "<Figure size 1000x800 with 2 Axes>"
      ]
     },
     "metadata": {},
     "output_type": "display_data"
    }
   ],
   "source": [
    "# Visualize the correlation matrix\n",
    "\n",
    "plt.figure(figsize=(10,8))\n",
    "sns.heatmap(correlation_matrix, annot=True, cmap='coolwarm')\n",
    "plt.title('Correlation Matrix')\n",
    "plt.show()\n"
   ]
  },
  {
   "cell_type": "markdown",
   "metadata": {},
   "source": [
    "Conclusion:\n",
    "1. No Strong Correlations: None of the correlations are strong (close to 1 or -1). Most are very weak or weak, indicating that there are no strong linear relationships between the variables in the dataset.\n",
    "2. Potential Implications: This lack of strong correlations suggests that other factors not included in the numeric dataset may play a more significant role in influencing these variables. It may also indicate that the relationships are non-linear, or there may be complex interactions between multiple variables that are not captured by simple pairwise correlations."
   ]
  },
  {
   "cell_type": "markdown",
   "metadata": {},
   "source": [
    "## 4. Predictive Modeling"
   ]
  },
  {
   "cell_type": "code",
   "execution_count": 48,
   "metadata": {},
   "outputs": [
    {
     "name": "stdout",
     "output_type": "stream",
     "text": [
      "Model R^2 score: 0.0007323761121593719\n"
     ]
    }
   ],
   "source": [
    "from sklearn.linear_model import LinearRegression\n",
    "from sklearn.model_selection import train_test_split\n",
    "\n",
    "numeric_columns = ['Total Funding Amount', 'Number of Funding Rounds', 'Number of Founders']\n",
    "\n",
    "# Define the features and target variable\n",
    "X = complete_data[numeric_columns].drop('Total Funding Amount', axis=1)\n",
    "y = complete_data['Total Funding Amount']\n",
    "\n",
    "X_train, X_test, y_train, y_test = train_test_split(X, y, test_size=0.2, random_state=42)\n",
    "\n",
    "# Create a linear regression model\n",
    "model = LinearRegression()\n",
    "model.fit(X_train, y_train)\n",
    "\n",
    "# Evaluate the model\n",
    "print(\"Model R^2 score:\", model.score(X_test, y_test))\n"
   ]
  },
  {
   "cell_type": "markdown",
   "metadata": {},
   "source": [
    "A Model R² score of 0.0007 indicates that the linear regression model is not effectively capturing the relationship between the predictors (Number of Funding Rounds, Number of Founders) and the target variable (Total Funding Amount). This suggests that these features alone are not sufficient to predict the Total Funding Amount accurately."
   ]
  }
 ],
 "metadata": {
  "kernelspec": {
   "display_name": "myenv",
   "language": "python",
   "name": "python3"
  },
  "language_info": {
   "codemirror_mode": {
    "name": "ipython",
    "version": 3
   },
   "file_extension": ".py",
   "mimetype": "text/x-python",
   "name": "python",
   "nbconvert_exporter": "python",
   "pygments_lexer": "ipython3",
   "version": "3.10.13"
  }
 },
 "nbformat": 4,
 "nbformat_minor": 2
}
